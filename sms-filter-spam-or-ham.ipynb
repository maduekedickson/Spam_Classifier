{
 "cells": [
  {
   "cell_type": "markdown",
   "id": "6aa9a833",
   "metadata": {
    "papermill": {
     "duration": 0.013647,
     "end_time": "2024-09-17T02:56:33.549781",
     "exception": false,
     "start_time": "2024-09-17T02:56:33.536134",
     "status": "completed"
    },
    "tags": []
   },
   "source": [
    "# <p style=\"background-color:#5C0795;font-family:newtimeroman; color:white; text-align:center; font-size:40px; padding:12px; border-radius:20px;\">SMS Filter: Spam ❌ or Ham ✅</p>\n",
    "\n",
    "<img src='https://miro.medium.com/v2/resize:fit:1400/1*oLszsXod-dV2c1NBqa8k7w.jpeg' height=auto width=auto>\n"
   ]
  },
  {
   "cell_type": "markdown",
   "id": "bdff669c",
   "metadata": {
    "papermill": {
     "duration": 0.012774,
     "end_time": "2024-09-17T02:56:33.575927",
     "exception": false,
     "start_time": "2024-09-17T02:56:33.563153",
     "status": "completed"
    },
    "tags": []
   },
   "source": [
    "# <p style=\"background-color:purple;font-family:newtimeroman; color:white; text-align:center; font-size:30px; padding:8px; border-radius:20px;\">IMPORTING LIBRARIES</p>"
   ]
  },
  {
   "cell_type": "code",
   "execution_count": 1,
   "id": "88b3d59b",
   "metadata": {
    "execution": {
     "iopub.execute_input": "2024-09-17T02:56:33.603594Z",
     "iopub.status.busy": "2024-09-17T02:56:33.603125Z",
     "iopub.status.idle": "2024-09-17T02:56:37.490217Z",
     "shell.execute_reply": "2024-09-17T02:56:37.488973Z"
    },
    "papermill": {
     "duration": 3.904404,
     "end_time": "2024-09-17T02:56:37.493133",
     "exception": false,
     "start_time": "2024-09-17T02:56:33.588729",
     "status": "completed"
    },
    "tags": []
   },
   "outputs": [],
   "source": [
    "import re\n",
    "import nltk\n",
    "import warnings\n",
    "import numpy as np \n",
    "import pandas as pd\n",
    "import seaborn as sns\n",
    "import matplotlib.pyplot as plt\n",
    "from nltk.corpus import stopwords\n",
    "from sklearn.pipeline import Pipeline    \n",
    "from nltk.stem import WordNetLemmatizer\n",
    "from nltk.stem.porter import PorterStemmer\n",
    "from sklearn.naive_bayes import MultinomialNB\n",
    "from sklearn.linear_model import LogisticRegression\n",
    "from sklearn.ensemble import RandomForestClassifier\n",
    "from sklearn.neighbors import KNeighborsClassifier\n",
    "from sklearn.model_selection import cross_val_score\n",
    "from sklearn.model_selection import train_test_split\n",
    "from sklearn.feature_extraction.text import TfidfVectorizer\n",
    "from sklearn.metrics import precision_score, recall_score, classification_report, accuracy_score, f1_score\n",
    "\n",
    "warnings.filterwarnings('ignore')"
   ]
  },
  {
   "cell_type": "markdown",
   "id": "790c2458",
   "metadata": {
    "papermill": {
     "duration": 0.013335,
     "end_time": "2024-09-17T02:56:37.519867",
     "exception": false,
     "start_time": "2024-09-17T02:56:37.506532",
     "status": "completed"
    },
    "tags": []
   },
   "source": [
    "# <p style=\"background-color:purple;font-family:newtimeroman; color:white; text-align:center; font-size:30px; padding:8px; border-radius:20px;\">DATA LOADING & EXPLORATION</p>"
   ]
  },
  {
   "cell_type": "code",
   "execution_count": 2,
   "id": "99436f6c",
   "metadata": {
    "execution": {
     "iopub.execute_input": "2024-09-17T02:56:37.548486Z",
     "iopub.status.busy": "2024-09-17T02:56:37.547822Z",
     "iopub.status.idle": "2024-09-17T02:56:37.617033Z",
     "shell.execute_reply": "2024-09-17T02:56:37.615910Z"
    },
    "papermill": {
     "duration": 0.086557,
     "end_time": "2024-09-17T02:56:37.619661",
     "exception": false,
     "start_time": "2024-09-17T02:56:37.533104",
     "status": "completed"
    },
    "tags": []
   },
   "outputs": [
    {
     "data": {
      "text/html": [
       "<div>\n",
       "<style scoped>\n",
       "    .dataframe tbody tr th:only-of-type {\n",
       "        vertical-align: middle;\n",
       "    }\n",
       "\n",
       "    .dataframe tbody tr th {\n",
       "        vertical-align: top;\n",
       "    }\n",
       "\n",
       "    .dataframe thead th {\n",
       "        text-align: right;\n",
       "    }\n",
       "</style>\n",
       "<table border=\"1\" class=\"dataframe\">\n",
       "  <thead>\n",
       "    <tr style=\"text-align: right;\">\n",
       "      <th></th>\n",
       "      <th>v1</th>\n",
       "      <th>v2</th>\n",
       "      <th>Unnamed: 2</th>\n",
       "      <th>Unnamed: 3</th>\n",
       "      <th>Unnamed: 4</th>\n",
       "    </tr>\n",
       "  </thead>\n",
       "  <tbody>\n",
       "    <tr>\n",
       "      <th>0</th>\n",
       "      <td>ham</td>\n",
       "      <td>Go until jurong point, crazy.. Available only ...</td>\n",
       "      <td>NaN</td>\n",
       "      <td>NaN</td>\n",
       "      <td>NaN</td>\n",
       "    </tr>\n",
       "    <tr>\n",
       "      <th>1</th>\n",
       "      <td>ham</td>\n",
       "      <td>Ok lar... Joking wif u oni...</td>\n",
       "      <td>NaN</td>\n",
       "      <td>NaN</td>\n",
       "      <td>NaN</td>\n",
       "    </tr>\n",
       "    <tr>\n",
       "      <th>2</th>\n",
       "      <td>spam</td>\n",
       "      <td>Free entry in 2 a wkly comp to win FA Cup fina...</td>\n",
       "      <td>NaN</td>\n",
       "      <td>NaN</td>\n",
       "      <td>NaN</td>\n",
       "    </tr>\n",
       "    <tr>\n",
       "      <th>3</th>\n",
       "      <td>ham</td>\n",
       "      <td>U dun say so early hor... U c already then say...</td>\n",
       "      <td>NaN</td>\n",
       "      <td>NaN</td>\n",
       "      <td>NaN</td>\n",
       "    </tr>\n",
       "    <tr>\n",
       "      <th>4</th>\n",
       "      <td>ham</td>\n",
       "      <td>Nah I don't think he goes to usf, he lives aro...</td>\n",
       "      <td>NaN</td>\n",
       "      <td>NaN</td>\n",
       "      <td>NaN</td>\n",
       "    </tr>\n",
       "  </tbody>\n",
       "</table>\n",
       "</div>"
      ],
      "text/plain": [
       "     v1                                                 v2 Unnamed: 2  \\\n",
       "0   ham  Go until jurong point, crazy.. Available only ...        NaN   \n",
       "1   ham                      Ok lar... Joking wif u oni...        NaN   \n",
       "2  spam  Free entry in 2 a wkly comp to win FA Cup fina...        NaN   \n",
       "3   ham  U dun say so early hor... U c already then say...        NaN   \n",
       "4   ham  Nah I don't think he goes to usf, he lives aro...        NaN   \n",
       "\n",
       "  Unnamed: 3 Unnamed: 4  \n",
       "0        NaN        NaN  \n",
       "1        NaN        NaN  \n",
       "2        NaN        NaN  \n",
       "3        NaN        NaN  \n",
       "4        NaN        NaN  "
      ]
     },
     "execution_count": 2,
     "metadata": {},
     "output_type": "execute_result"
    }
   ],
   "source": [
    "#Loading data\n",
    "df = pd.read_csv(\"../input/sms-spam-collection-dataset/spam.csv\", encoding='latin1')\n",
    "df.head()"
   ]
  },
  {
   "cell_type": "code",
   "execution_count": 3,
   "id": "b10b8de4",
   "metadata": {
    "execution": {
     "iopub.execute_input": "2024-09-17T02:56:37.650485Z",
     "iopub.status.busy": "2024-09-17T02:56:37.649987Z",
     "iopub.status.idle": "2024-09-17T02:56:37.670134Z",
     "shell.execute_reply": "2024-09-17T02:56:37.668811Z"
    },
    "papermill": {
     "duration": 0.038184,
     "end_time": "2024-09-17T02:56:37.672878",
     "exception": false,
     "start_time": "2024-09-17T02:56:37.634694",
     "status": "completed"
    },
    "tags": []
   },
   "outputs": [
    {
     "data": {
      "text/html": [
       "<div>\n",
       "<style scoped>\n",
       "    .dataframe tbody tr th:only-of-type {\n",
       "        vertical-align: middle;\n",
       "    }\n",
       "\n",
       "    .dataframe tbody tr th {\n",
       "        vertical-align: top;\n",
       "    }\n",
       "\n",
       "    .dataframe thead th {\n",
       "        text-align: right;\n",
       "    }\n",
       "</style>\n",
       "<table border=\"1\" class=\"dataframe\">\n",
       "  <thead>\n",
       "    <tr style=\"text-align: right;\">\n",
       "      <th></th>\n",
       "      <th>Target</th>\n",
       "      <th>Text</th>\n",
       "    </tr>\n",
       "  </thead>\n",
       "  <tbody>\n",
       "    <tr>\n",
       "      <th>0</th>\n",
       "      <td>ham</td>\n",
       "      <td>Go until jurong point, crazy.. Available only ...</td>\n",
       "    </tr>\n",
       "    <tr>\n",
       "      <th>1</th>\n",
       "      <td>ham</td>\n",
       "      <td>Ok lar... Joking wif u oni...</td>\n",
       "    </tr>\n",
       "    <tr>\n",
       "      <th>2</th>\n",
       "      <td>spam</td>\n",
       "      <td>Free entry in 2 a wkly comp to win FA Cup fina...</td>\n",
       "    </tr>\n",
       "    <tr>\n",
       "      <th>3</th>\n",
       "      <td>ham</td>\n",
       "      <td>U dun say so early hor... U c already then say...</td>\n",
       "    </tr>\n",
       "    <tr>\n",
       "      <th>4</th>\n",
       "      <td>ham</td>\n",
       "      <td>Nah I don't think he goes to usf, he lives aro...</td>\n",
       "    </tr>\n",
       "  </tbody>\n",
       "</table>\n",
       "</div>"
      ],
      "text/plain": [
       "  Target                                               Text\n",
       "0    ham  Go until jurong point, crazy.. Available only ...\n",
       "1    ham                      Ok lar... Joking wif u oni...\n",
       "2   spam  Free entry in 2 a wkly comp to win FA Cup fina...\n",
       "3    ham  U dun say so early hor... U c already then say...\n",
       "4    ham  Nah I don't think he goes to usf, he lives aro..."
      ]
     },
     "execution_count": 3,
     "metadata": {},
     "output_type": "execute_result"
    }
   ],
   "source": [
    "# Dropping the redundent columns & Renaming the columns\n",
    "df = df.drop(columns = [\"Unnamed: 2\",\"Unnamed: 3\",\"Unnamed: 4\"], axis=1)\n",
    "df.rename(columns = {\"v1\":\"Target\", \"v2\":\"Text\"}, inplace = True)\n",
    "df.head()"
   ]
  },
  {
   "cell_type": "code",
   "execution_count": 4,
   "id": "8db1a64d",
   "metadata": {
    "execution": {
     "iopub.execute_input": "2024-09-17T02:56:37.702528Z",
     "iopub.status.busy": "2024-09-17T02:56:37.702068Z",
     "iopub.status.idle": "2024-09-17T02:56:37.710421Z",
     "shell.execute_reply": "2024-09-17T02:56:37.708970Z"
    },
    "papermill": {
     "duration": 0.02659,
     "end_time": "2024-09-17T02:56:37.713119",
     "exception": false,
     "start_time": "2024-09-17T02:56:37.686529",
     "status": "completed"
    },
    "tags": []
   },
   "outputs": [
    {
     "data": {
      "text/plain": [
       "(5572, 2)"
      ]
     },
     "execution_count": 4,
     "metadata": {},
     "output_type": "execute_result"
    }
   ],
   "source": [
    "# shape\n",
    "df.shape"
   ]
  },
  {
   "cell_type": "code",
   "execution_count": 5,
   "id": "e0c30b58",
   "metadata": {
    "execution": {
     "iopub.execute_input": "2024-09-17T02:56:37.743204Z",
     "iopub.status.busy": "2024-09-17T02:56:37.742368Z",
     "iopub.status.idle": "2024-09-17T02:56:37.766612Z",
     "shell.execute_reply": "2024-09-17T02:56:37.765443Z"
    },
    "papermill": {
     "duration": 0.042344,
     "end_time": "2024-09-17T02:56:37.769183",
     "exception": false,
     "start_time": "2024-09-17T02:56:37.726839",
     "status": "completed"
    },
    "tags": []
   },
   "outputs": [
    {
     "name": "stdout",
     "output_type": "stream",
     "text": [
      "<class 'pandas.core.frame.DataFrame'>\n",
      "RangeIndex: 5572 entries, 0 to 5571\n",
      "Data columns (total 2 columns):\n",
      " #   Column  Non-Null Count  Dtype \n",
      "---  ------  --------------  ----- \n",
      " 0   Target  5572 non-null   object\n",
      " 1   Text    5572 non-null   object\n",
      "dtypes: object(2)\n",
      "memory usage: 87.2+ KB\n"
     ]
    }
   ],
   "source": [
    "# information\n",
    "df.info()"
   ]
  },
  {
   "cell_type": "code",
   "execution_count": 6,
   "id": "56f431e0",
   "metadata": {
    "execution": {
     "iopub.execute_input": "2024-09-17T02:56:37.799631Z",
     "iopub.status.busy": "2024-09-17T02:56:37.798716Z",
     "iopub.status.idle": "2024-09-17T02:56:37.809604Z",
     "shell.execute_reply": "2024-09-17T02:56:37.808264Z"
    },
    "papermill": {
     "duration": 0.029027,
     "end_time": "2024-09-17T02:56:37.812247",
     "exception": false,
     "start_time": "2024-09-17T02:56:37.783220",
     "status": "completed"
    },
    "tags": []
   },
   "outputs": [
    {
     "data": {
      "text/plain": [
       "Target    0\n",
       "Text      0\n",
       "dtype: int64"
      ]
     },
     "execution_count": 6,
     "metadata": {},
     "output_type": "execute_result"
    }
   ],
   "source": [
    "# null data\n",
    "df.isnull().sum()"
   ]
  },
  {
   "cell_type": "code",
   "execution_count": 7,
   "id": "bb5288ec",
   "metadata": {
    "execution": {
     "iopub.execute_input": "2024-09-17T02:56:37.842928Z",
     "iopub.status.busy": "2024-09-17T02:56:37.842379Z",
     "iopub.status.idle": "2024-09-17T02:56:37.854202Z",
     "shell.execute_reply": "2024-09-17T02:56:37.853051Z"
    },
    "papermill": {
     "duration": 0.030245,
     "end_time": "2024-09-17T02:56:37.856859",
     "exception": false,
     "start_time": "2024-09-17T02:56:37.826614",
     "status": "completed"
    },
    "tags": []
   },
   "outputs": [
    {
     "data": {
      "text/plain": [
       "403"
      ]
     },
     "execution_count": 7,
     "metadata": {},
     "output_type": "execute_result"
    }
   ],
   "source": [
    "# duplicate data\n",
    "df.duplicated().sum()"
   ]
  },
  {
   "cell_type": "code",
   "execution_count": 8,
   "id": "72e8fff8",
   "metadata": {
    "execution": {
     "iopub.execute_input": "2024-09-17T02:56:37.886923Z",
     "iopub.status.busy": "2024-09-17T02:56:37.886498Z",
     "iopub.status.idle": "2024-09-17T02:56:37.899751Z",
     "shell.execute_reply": "2024-09-17T02:56:37.898760Z"
    },
    "papermill": {
     "duration": 0.031916,
     "end_time": "2024-09-17T02:56:37.902739",
     "exception": false,
     "start_time": "2024-09-17T02:56:37.870823",
     "status": "completed"
    },
    "tags": []
   },
   "outputs": [],
   "source": [
    "# dropping duplicate data\n",
    "df.drop_duplicates(inplace=True)"
   ]
  },
  {
   "cell_type": "code",
   "execution_count": 9,
   "id": "4b514dfc",
   "metadata": {
    "execution": {
     "iopub.execute_input": "2024-09-17T02:56:37.934301Z",
     "iopub.status.busy": "2024-09-17T02:56:37.933875Z",
     "iopub.status.idle": "2024-09-17T02:56:38.126895Z",
     "shell.execute_reply": "2024-09-17T02:56:38.125232Z"
    },
    "papermill": {
     "duration": 0.215012,
     "end_time": "2024-09-17T02:56:38.131857",
     "exception": false,
     "start_time": "2024-09-17T02:56:37.916845",
     "status": "completed"
    },
    "tags": []
   },
   "outputs": [
    {
     "data": {
      "image/png": "[encoded data removed]",
      "text/plain": [
       "<Figure size 800x400 with 1 Axes>"
      ]
     },
     "metadata": {},
     "output_type": "display_data"
    }
   ],
   "source": [
    "# target feature\n",
    "plt.figure(figsize=(8,4))\n",
    "sns.countplot(data=df, x='Target', palette='Greens')\n",
    "plt.xlabel(\"Target\")\n",
    "plt.ylabel(\"SMS\")\n",
    "plt.show()"
   ]
  },
  {
   "cell_type": "markdown",
   "id": "0e05f865",
   "metadata": {
    "papermill": {
     "duration": 0.014044,
     "end_time": "2024-09-17T02:56:38.162044",
     "exception": false,
     "start_time": "2024-09-17T02:56:38.148000",
     "status": "completed"
    },
    "tags": []
   },
   "source": [
    "`Note` - Data Is Imbalanced"
   ]
  },
  {
   "cell_type": "markdown",
   "id": "4ea6362a",
   "metadata": {
    "papermill": {
     "duration": 0.014109,
     "end_time": "2024-09-17T02:56:38.190485",
     "exception": false,
     "start_time": "2024-09-17T02:56:38.176376",
     "status": "completed"
    },
    "tags": []
   },
   "source": [
    "# <p style=\"background-color:purple;font-family:newtimeroman; color:white; text-align:center; font-size:30px; padding:8px; border-radius:20px;\">FEATURE ENGINEERING</p>"
   ]
  },
  {
   "cell_type": "code",
   "execution_count": 10,
   "id": "422b826f",
   "metadata": {
    "execution": {
     "iopub.execute_input": "2024-09-17T02:56:38.221642Z",
     "iopub.status.busy": "2024-09-17T02:56:38.221198Z",
     "iopub.status.idle": "2024-09-17T02:56:40.551985Z",
     "shell.execute_reply": "2024-09-17T02:56:40.550717Z"
    },
    "papermill": {
     "duration": 2.350044,
     "end_time": "2024-09-17T02:56:40.554925",
     "exception": false,
     "start_time": "2024-09-17T02:56:38.204881",
     "status": "completed"
    },
    "tags": []
   },
   "outputs": [],
   "source": [
    "\"\"\"  \n",
    "Creating New Features:\n",
    "1. No of Chars: Number of characters in the text message\n",
    "2. No of Words: Number of words in the text message\n",
    "3. No of Sentences: Number of sentences in the text message  \n",
    "\"\"\"\n",
    "\n",
    "df['No of Chars'] = df['Text'].apply(len)\n",
    "df['No of Sentences'] = df['Text'].apply(lambda corpus: nltk.sent_tokenize(corpus)).apply(len)\n",
    "df['No of Words'] = df['Text'].apply(lambda document: nltk.word_tokenize(document)).apply(len)"
   ]
  },
  {
   "cell_type": "code",
   "execution_count": 11,
   "id": "398a0d43",
   "metadata": {
    "execution": {
     "iopub.execute_input": "2024-09-17T02:56:40.586598Z",
     "iopub.status.busy": "2024-09-17T02:56:40.585285Z",
     "iopub.status.idle": "2024-09-17T02:56:40.613110Z",
     "shell.execute_reply": "2024-09-17T02:56:40.611841Z"
    },
    "papermill": {
     "duration": 0.046417,
     "end_time": "2024-09-17T02:56:40.615919",
     "exception": false,
     "start_time": "2024-09-17T02:56:40.569502",
     "status": "completed"
    },
    "tags": []
   },
   "outputs": [
    {
     "data": {
      "text/html": [
       "<div>\n",
       "<style scoped>\n",
       "    .dataframe tbody tr th:only-of-type {\n",
       "        vertical-align: middle;\n",
       "    }\n",
       "\n",
       "    .dataframe tbody tr th {\n",
       "        vertical-align: top;\n",
       "    }\n",
       "\n",
       "    .dataframe thead th {\n",
       "        text-align: right;\n",
       "    }\n",
       "</style>\n",
       "<table border=\"1\" class=\"dataframe\">\n",
       "  <thead>\n",
       "    <tr style=\"text-align: right;\">\n",
       "      <th></th>\n",
       "      <th>count</th>\n",
       "      <th>mean</th>\n",
       "      <th>std</th>\n",
       "      <th>min</th>\n",
       "      <th>25%</th>\n",
       "      <th>50%</th>\n",
       "      <th>75%</th>\n",
       "      <th>max</th>\n",
       "    </tr>\n",
       "  </thead>\n",
       "  <tbody>\n",
       "    <tr>\n",
       "      <th>No of Chars</th>\n",
       "      <td>5169.0</td>\n",
       "      <td>78.977945</td>\n",
       "      <td>58.236293</td>\n",
       "      <td>2.0</td>\n",
       "      <td>36.0</td>\n",
       "      <td>60.0</td>\n",
       "      <td>117.0</td>\n",
       "      <td>910.0</td>\n",
       "    </tr>\n",
       "    <tr>\n",
       "      <th>No of Sentences</th>\n",
       "      <td>5169.0</td>\n",
       "      <td>1.961308</td>\n",
       "      <td>1.432583</td>\n",
       "      <td>1.0</td>\n",
       "      <td>1.0</td>\n",
       "      <td>1.0</td>\n",
       "      <td>2.0</td>\n",
       "      <td>38.0</td>\n",
       "    </tr>\n",
       "    <tr>\n",
       "      <th>No of Words</th>\n",
       "      <td>5169.0</td>\n",
       "      <td>18.286129</td>\n",
       "      <td>13.226400</td>\n",
       "      <td>1.0</td>\n",
       "      <td>9.0</td>\n",
       "      <td>15.0</td>\n",
       "      <td>26.0</td>\n",
       "      <td>219.0</td>\n",
       "    </tr>\n",
       "  </tbody>\n",
       "</table>\n",
       "</div>"
      ],
      "text/plain": [
       "                  count       mean        std  min   25%   50%    75%    max\n",
       "No of Chars      5169.0  78.977945  58.236293  2.0  36.0  60.0  117.0  910.0\n",
       "No of Sentences  5169.0   1.961308   1.432583  1.0   1.0   1.0    2.0   38.0\n",
       "No of Words      5169.0  18.286129  13.226400  1.0   9.0  15.0   26.0  219.0"
      ]
     },
     "execution_count": 11,
     "metadata": {},
     "output_type": "execute_result"
    }
   ],
   "source": [
    "# data desciption\n",
    "df.describe().T"
   ]
  },
  {
   "cell_type": "markdown",
   "id": "5272f327",
   "metadata": {
    "papermill": {
     "duration": 0.014422,
     "end_time": "2024-09-17T02:56:40.645041",
     "exception": false,
     "start_time": "2024-09-17T02:56:40.630619",
     "status": "completed"
    },
    "tags": []
   },
   "source": [
    "# <p style=\"background-color:purple;font-family:newtimeroman; color:white; text-align:center; font-size:30px; padding:8px; border-radius:20px;\">DETECTING & HANDLING OUTLIERS </p>"
   ]
  },
  {
   "cell_type": "code",
   "execution_count": 12,
   "id": "a79ac11b",
   "metadata": {
    "execution": {
     "iopub.execute_input": "2024-09-17T02:56:40.676778Z",
     "iopub.status.busy": "2024-09-17T02:56:40.676290Z",
     "iopub.status.idle": "2024-09-17T02:56:41.067742Z",
     "shell.execute_reply": "2024-09-17T02:56:41.066346Z"
    },
    "papermill": {
     "duration": 0.411012,
     "end_time": "2024-09-17T02:56:41.070723",
     "exception": false,
     "start_time": "2024-09-17T02:56:40.659711",
     "status": "completed"
    },
    "tags": []
   },
   "outputs": [
    {
     "data": {
      "image/png": "[encoded data removed]",
      "text/plain": [
       "<Figure size 1500x500 with 1 Axes>"
      ]
     },
     "metadata": {},
     "output_type": "display_data"
    }
   ],
   "source": [
    "# Plotting Boxplot for outlier detection\n",
    "melted_df = df.melt(id_vars='Target', value_vars=['No of Sentences', 'No of Chars', 'No of Words'], var_name='Feature', value_name='Value')\n",
    "\n",
    "plt.figure(figsize=(15,5))\n",
    "sns.boxenplot(x='Feature', y='Value', data=melted_df, hue='Target')\n",
    "plt.show()"
   ]
  },
  {
   "cell_type": "markdown",
   "id": "2e68d9b7",
   "metadata": {
    "papermill": {
     "duration": 0.014833,
     "end_time": "2024-09-17T02:56:41.101179",
     "exception": false,
     "start_time": "2024-09-17T02:56:41.086346",
     "status": "completed"
    },
    "tags": []
   },
   "source": [
    "`Note`: From the above plot, we can clearly see their are few outliers, all in the class ham."
   ]
  },
  {
   "cell_type": "code",
   "execution_count": 13,
   "id": "b20a86e6",
   "metadata": {
    "execution": {
     "iopub.execute_input": "2024-09-17T02:56:41.133484Z",
     "iopub.status.busy": "2024-09-17T02:56:41.132997Z",
     "iopub.status.idle": "2024-09-17T02:56:41.147774Z",
     "shell.execute_reply": "2024-09-17T02:56:41.146639Z"
    },
    "papermill": {
     "duration": 0.034116,
     "end_time": "2024-09-17T02:56:41.150364",
     "exception": false,
     "start_time": "2024-09-17T02:56:41.116248",
     "status": "completed"
    },
    "tags": []
   },
   "outputs": [
    {
     "data": {
      "text/plain": [
       "Index([  53,  126,  154,  380,  424,  472,  550,  710,  837,  881, 1084, 1359,\n",
       "       1384, 1512, 1578, 1585, 1826, 1862, 2009, 2011, 2064, 2089, 2133, 2157,\n",
       "       2355, 2369, 2379, 2407, 2433, 2492, 2502, 2544, 2614, 2855, 2944, 3015,\n",
       "       3039, 3058, 3105, 3225, 3304, 3349, 3452, 3516, 3564, 3730, 3736, 3777,\n",
       "       3820, 3878, 4055, 4079, 4289, 4310, 4397, 4407, 4450, 4800, 4865, 4903,\n",
       "       5003, 5082, 5209, 5451, 5515, 5557],\n",
       "      dtype='int64')"
      ]
     },
     "execution_count": 13,
     "metadata": {},
     "output_type": "execute_result"
    }
   ],
   "source": [
    "# Identifying Outliers Using IQR\n",
    "column_name = 'No of Chars'\n",
    "\n",
    "Q1 = df[column_name].quantile(0.25)\n",
    "Q3 = df[column_name].quantile(0.75)\n",
    "IQR = Q3 - Q1\n",
    "\n",
    "lower_bound = Q1 - 1.5 * IQR\n",
    "upper_bound = Q3 + 1.5 * IQR\n",
    "\n",
    "outliers = df[(df[column_name] < lower_bound) | (df[column_name] > upper_bound)]\n",
    "outliers.index"
   ]
  },
  {
   "cell_type": "code",
   "execution_count": 14,
   "id": "c5b2f881",
   "metadata": {
    "execution": {
     "iopub.execute_input": "2024-09-17T02:56:41.183409Z",
     "iopub.status.busy": "2024-09-17T02:56:41.182929Z",
     "iopub.status.idle": "2024-09-17T02:56:41.190693Z",
     "shell.execute_reply": "2024-09-17T02:56:41.189432Z"
    },
    "papermill": {
     "duration": 0.027588,
     "end_time": "2024-09-17T02:56:41.193474",
     "exception": false,
     "start_time": "2024-09-17T02:56:41.165886",
     "status": "completed"
    },
    "tags": []
   },
   "outputs": [],
   "source": [
    "# Dropping the outliers\n",
    "df.drop(outliers.index, axis=0, inplace=True)"
   ]
  },
  {
   "cell_type": "code",
   "execution_count": 15,
   "id": "6fb0e392",
   "metadata": {
    "execution": {
     "iopub.execute_input": "2024-09-17T02:56:41.227209Z",
     "iopub.status.busy": "2024-09-17T02:56:41.226707Z",
     "iopub.status.idle": "2024-09-17T02:56:41.234967Z",
     "shell.execute_reply": "2024-09-17T02:56:41.233755Z"
    },
    "papermill": {
     "duration": 0.027792,
     "end_time": "2024-09-17T02:56:41.237444",
     "exception": false,
     "start_time": "2024-09-17T02:56:41.209652",
     "status": "completed"
    },
    "tags": []
   },
   "outputs": [
    {
     "data": {
      "text/plain": [
       "(5103, 5)"
      ]
     },
     "execution_count": 15,
     "metadata": {},
     "output_type": "execute_result"
    }
   ],
   "source": [
    "# Shape after dropping outliers\n",
    "df.shape"
   ]
  },
  {
   "cell_type": "markdown",
   "id": "30776341",
   "metadata": {
    "papermill": {
     "duration": 0.015535,
     "end_time": "2024-09-17T02:56:41.268846",
     "exception": false,
     "start_time": "2024-09-17T02:56:41.253311",
     "status": "completed"
    },
    "tags": []
   },
   "source": [
    "# <p style=\"background-color:purple;font-family:newtimeroman; color:white; text-align:center; font-size:30px; padding:8px; border-radius:20px;\">DATA PRE-PROCESSING</p>"
   ]
  },
  {
   "cell_type": "markdown",
   "id": "d70f58c7",
   "metadata": {
    "papermill": {
     "duration": 0.015394,
     "end_time": "2024-09-17T02:56:41.300294",
     "exception": false,
     "start_time": "2024-09-17T02:56:41.284900",
     "status": "completed"
    },
    "tags": []
   },
   "source": [
    "## <p style=\"background-color:teal;font-family:newtimeroman; color:white; text-align:center; font-size:30px; padding:8px; border-radius:20px;\">DATA CLEANING</p>"
   ]
  },
  {
   "cell_type": "code",
   "execution_count": 16,
   "id": "fcdf7a99",
   "metadata": {
    "execution": {
     "iopub.execute_input": "2024-09-17T02:56:41.333649Z",
     "iopub.status.busy": "2024-09-17T02:56:41.333161Z",
     "iopub.status.idle": "2024-09-17T02:56:41.412121Z",
     "shell.execute_reply": "2024-09-17T02:56:41.410863Z"
    },
    "papermill": {
     "duration": 0.099318,
     "end_time": "2024-09-17T02:56:41.415206",
     "exception": false,
     "start_time": "2024-09-17T02:56:41.315888",
     "status": "completed"
    },
    "tags": []
   },
   "outputs": [],
   "source": [
    "# Function to clean the data\n",
    "def data_cleaning(text):\n",
    "    text = re.sub('[^a-zA-Z]', ' ', text) # replacing all non-alphabetix characters with space\n",
    "    text = str.lower(text) # lowercasing\n",
    "    text = text.split()    # splitting string into list\n",
    "    text = ' '.join(text)  # join all items of the list\n",
    "    return text\n",
    "\n",
    "\n",
    "# applying data cleaning and creating new feature  \n",
    "df['Clean Text'] = df['Text'].apply(data_cleaning)"
   ]
  },
  {
   "cell_type": "markdown",
   "id": "b5c5ed08",
   "metadata": {
    "papermill": {
     "duration": 0.015767,
     "end_time": "2024-09-17T02:56:41.448637",
     "exception": false,
     "start_time": "2024-09-17T02:56:41.432870",
     "status": "completed"
    },
    "tags": []
   },
   "source": [
    "## <p style=\"background-color:teal;font-family:newtimeroman; color:white; text-align:center; font-size:30px; padding:8px; border-radius:20px;\">TOKENIZATION</p>"
   ]
  },
  {
   "cell_type": "code",
   "execution_count": 17,
   "id": "b939b041",
   "metadata": {
    "execution": {
     "iopub.execute_input": "2024-09-17T02:56:41.482951Z",
     "iopub.status.busy": "2024-09-17T02:56:41.482472Z",
     "iopub.status.idle": "2024-09-17T02:56:42.648550Z",
     "shell.execute_reply": "2024-09-17T02:56:42.647458Z"
    },
    "papermill": {
     "duration": 1.186638,
     "end_time": "2024-09-17T02:56:42.651313",
     "exception": false,
     "start_time": "2024-09-17T02:56:41.464675",
     "status": "completed"
    },
    "tags": []
   },
   "outputs": [],
   "source": [
    "# Applying Word Tokenization & Creating new feature\n",
    "df['Tokenized Text'] = df['Clean Text'].apply(lambda document: nltk.word_tokenize(document))"
   ]
  },
  {
   "cell_type": "markdown",
   "id": "ec5e71fa",
   "metadata": {
    "papermill": {
     "duration": 0.015293,
     "end_time": "2024-09-17T02:56:42.682301",
     "exception": false,
     "start_time": "2024-09-17T02:56:42.667008",
     "status": "completed"
    },
    "tags": []
   },
   "source": [
    "## <p style=\"background-color:teal;font-family:newtimeroman; color:white; text-align:center; font-size:30px; padding:8px; border-radius:20px;\">REMOVING STOPWARDS</p>"
   ]
  },
  {
   "cell_type": "code",
   "execution_count": 18,
   "id": "809d9c32",
   "metadata": {
    "execution": {
     "iopub.execute_input": "2024-09-17T02:56:42.716038Z",
     "iopub.status.busy": "2024-09-17T02:56:42.715038Z",
     "iopub.status.idle": "2024-09-17T02:56:43.538014Z",
     "shell.execute_reply": "2024-09-17T02:56:43.536867Z"
    },
    "papermill": {
     "duration": 0.843201,
     "end_time": "2024-09-17T02:56:43.540926",
     "exception": false,
     "start_time": "2024-09-17T02:56:42.697725",
     "status": "completed"
    },
    "tags": []
   },
   "outputs": [],
   "source": [
    "# Function to remove stopwords from tokenized text\n",
    "def stopwords_removal(tokens):\n",
    "    stop_words = set(stopwords.words('english'))\n",
    "    filtered_text = [word for word in tokens if word not in stop_words]\n",
    "    return filtered_text\n",
    "\n",
    "\n",
    "# applying stopwords removal\n",
    "df['Filtered Token'] = df['Tokenized Text'].apply(stopwords_removal)"
   ]
  },
  {
   "cell_type": "markdown",
   "id": "72854ae8",
   "metadata": {
    "papermill": {
     "duration": 0.015205,
     "end_time": "2024-09-17T02:56:43.572257",
     "exception": false,
     "start_time": "2024-09-17T02:56:43.557052",
     "status": "completed"
    },
    "tags": []
   },
   "source": [
    "## <p style=\"background-color:teal;font-family:newtimeroman; color:white; text-align:center; font-size:30px; padding:8px; border-radius:20px;\">LEMMATIZATION</p>"
   ]
  },
  {
   "cell_type": "markdown",
   "id": "5447c290",
   "metadata": {
    "papermill": {
     "duration": 0.01565,
     "end_time": "2024-09-17T02:56:43.604244",
     "exception": false,
     "start_time": "2024-09-17T02:56:43.588594",
     "status": "completed"
    },
    "tags": []
   },
   "source": [
    "`I was getting Error While Performing Lemmatization`: \n",
    "\n",
    "Resource 'corpora/wordnet' not found. Please use the NLTK\n",
    "Downloader to obtain the resource: >>> nltk.download()\n",
    "Searched in:\n",
    "- '/root/nltk_data'\n",
    "- '/usr/share/nltk_data'\n",
    "- '/usr/local/share/nltk_data'\n",
    "- '/usr/lib/nltk_data'\n",
    "- '/usr/local/lib/nltk_data'\n",
    "\n",
    "\n",
    "`TO solve, run this code`:"
   ]
  },
  {
   "cell_type": "code",
   "execution_count": 19,
   "id": "a2bc408c",
   "metadata": {
    "execution": {
     "iopub.execute_input": "2024-09-17T02:56:43.637974Z",
     "iopub.status.busy": "2024-09-17T02:56:43.637521Z",
     "iopub.status.idle": "2024-09-17T02:56:45.184014Z",
     "shell.execute_reply": "2024-09-17T02:56:45.182579Z"
    },
    "papermill": {
     "duration": 1.566606,
     "end_time": "2024-09-17T02:56:45.187199",
     "exception": false,
     "start_time": "2024-09-17T02:56:43.620593",
     "status": "completed"
    },
    "tags": []
   },
   "outputs": [
    {
     "name": "stdout",
     "output_type": "stream",
     "text": [
      "Archive:  /usr/share/nltk_data/corpora/wordnet.zip\r\n",
      "   creating: /usr/share/nltk_data/corpora/wordnet/\r\n",
      "  inflating: /usr/share/nltk_data/corpora/wordnet/lexnames  \r\n",
      "  inflating: /usr/share/nltk_data/corpora/wordnet/data.verb  \r\n",
      "  inflating: /usr/share/nltk_data/corpora/wordnet/index.adv  \r\n",
      "  inflating: /usr/share/nltk_data/corpora/wordnet/adv.exc  \r\n",
      "  inflating: /usr/share/nltk_data/corpora/wordnet/index.verb  \r\n",
      "  inflating: /usr/share/nltk_data/corpora/wordnet/cntlist.rev  \r\n",
      "  inflating: /usr/share/nltk_data/corpora/wordnet/data.adj  \r\n",
      "  inflating: /usr/share/nltk_data/corpora/wordnet/index.adj  \r\n",
      "  inflating: /usr/share/nltk_data/corpora/wordnet/LICENSE  \r\n",
      "  inflating: /usr/share/nltk_data/corpora/wordnet/citation.bib  \r\n",
      "  inflating: /usr/share/nltk_data/corpora/wordnet/noun.exc  \r\n",
      "  inflating: /usr/share/nltk_data/corpora/wordnet/verb.exc  \r\n",
      "  inflating: /usr/share/nltk_data/corpora/wordnet/README  \r\n",
      "  inflating: /usr/share/nltk_data/corpora/wordnet/index.sense  \r\n",
      "  inflating: /usr/share/nltk_data/corpora/wordnet/data.noun  \r\n",
      "  inflating: /usr/share/nltk_data/corpora/wordnet/data.adv  \r\n",
      "  inflating: /usr/share/nltk_data/corpora/wordnet/index.noun  \r\n",
      "  inflating: /usr/share/nltk_data/corpora/wordnet/adj.exc  \r\n"
     ]
    }
   ],
   "source": [
    "!unzip /usr/share/nltk_data/corpora/wordnet.zip -d /usr/share/nltk_data/corpora/"
   ]
  },
  {
   "cell_type": "code",
   "execution_count": 20,
   "id": "503d1de7",
   "metadata": {
    "execution": {
     "iopub.execute_input": "2024-09-17T02:56:45.222524Z",
     "iopub.status.busy": "2024-09-17T02:56:45.222005Z",
     "iopub.status.idle": "2024-09-17T02:56:48.018247Z",
     "shell.execute_reply": "2024-09-17T02:56:48.016914Z"
    },
    "papermill": {
     "duration": 2.817682,
     "end_time": "2024-09-17T02:56:48.021245",
     "exception": false,
     "start_time": "2024-09-17T02:56:45.203563",
     "status": "completed"
    },
    "tags": []
   },
   "outputs": [],
   "source": [
    "lemmatizer = WordNetLemmatizer()\n",
    "\n",
    "# Function to lemmatize\n",
    "def lemmatizing(tokens):\n",
    "    lemmas = [lemmatizer.lemmatize(token, pos='v') for token in tokens]\n",
    "    return lemmas\n",
    "\n",
    "\n",
    "df['Lemmatized Tokens'] = df['Filtered Token'].apply(lemmatizing)"
   ]
  },
  {
   "cell_type": "markdown",
   "id": "60cec7af",
   "metadata": {
    "papermill": {
     "duration": 0.015874,
     "end_time": "2024-09-17T02:56:48.053334",
     "exception": false,
     "start_time": "2024-09-17T02:56:48.037460",
     "status": "completed"
    },
    "tags": []
   },
   "source": [
    "# <p style=\"background-color:purple;font-family:newtimeroman; color:white; text-align:center; font-size:30px; padding:8px; border-radius:20px;\">WORD EMBEDDING | VECTORIZING</p>"
   ]
  },
  {
   "cell_type": "code",
   "execution_count": 21,
   "id": "b23addca",
   "metadata": {
    "execution": {
     "iopub.execute_input": "2024-09-17T02:56:48.087856Z",
     "iopub.status.busy": "2024-09-17T02:56:48.087347Z",
     "iopub.status.idle": "2024-09-17T02:56:48.105116Z",
     "shell.execute_reply": "2024-09-17T02:56:48.103734Z"
    },
    "papermill": {
     "duration": 0.038254,
     "end_time": "2024-09-17T02:56:48.107869",
     "exception": false,
     "start_time": "2024-09-17T02:56:48.069615",
     "status": "completed"
    },
    "tags": []
   },
   "outputs": [],
   "source": [
    "# Creating a corpus of Lemmatized Tokens\n",
    "corpus = []\n",
    "for tokens in df['Lemmatized Tokens']:\n",
    "    document = ' '.join([word for word in tokens])\n",
    "    corpus.append(document)"
   ]
  },
  {
   "cell_type": "code",
   "execution_count": 22,
   "id": "17a6ba4c",
   "metadata": {
    "execution": {
     "iopub.execute_input": "2024-09-17T02:56:48.142091Z",
     "iopub.status.busy": "2024-09-17T02:56:48.141643Z",
     "iopub.status.idle": "2024-09-17T02:56:48.416029Z",
     "shell.execute_reply": "2024-09-17T02:56:48.414363Z"
    },
    "papermill": {
     "duration": 0.295175,
     "end_time": "2024-09-17T02:56:48.419148",
     "exception": false,
     "start_time": "2024-09-17T02:56:48.123973",
     "status": "completed"
    },
    "tags": []
   },
   "outputs": [],
   "source": [
    "# Performing Vectorization and creating independent feature\n",
    "tfidf = TfidfVectorizer()\n",
    "X = tfidf.fit_transform(corpus).toarray()"
   ]
  },
  {
   "cell_type": "code",
   "execution_count": 23,
   "id": "5426e17a",
   "metadata": {
    "execution": {
     "iopub.execute_input": "2024-09-17T02:56:48.455074Z",
     "iopub.status.busy": "2024-09-17T02:56:48.454602Z",
     "iopub.status.idle": "2024-09-17T02:56:48.463347Z",
     "shell.execute_reply": "2024-09-17T02:56:48.462206Z"
    },
    "papermill": {
     "duration": 0.030069,
     "end_time": "2024-09-17T02:56:48.465872",
     "exception": false,
     "start_time": "2024-09-17T02:56:48.435803",
     "status": "completed"
    },
    "tags": []
   },
   "outputs": [],
   "source": [
    "# Encoding Dependent Features\n",
    "df['Target'] = df['Target'].map({\"ham\":0, \"spam\":1})\n",
    "y = df['Target']"
   ]
  },
  {
   "cell_type": "markdown",
   "id": "44ef302d",
   "metadata": {
    "papermill": {
     "duration": 0.016194,
     "end_time": "2024-09-17T02:56:48.498638",
     "exception": false,
     "start_time": "2024-09-17T02:56:48.482444",
     "status": "completed"
    },
    "tags": []
   },
   "source": [
    "# <p style=\"background-color:purple;font-family:newtimeroman; color:white; text-align:center; font-size:30px; padding:8px; border-radius:20px;\">MODEL TRAINING</p>"
   ]
  },
  {
   "cell_type": "code",
   "execution_count": 24,
   "id": "e9abdd97",
   "metadata": {
    "execution": {
     "iopub.execute_input": "2024-09-17T02:56:48.533424Z",
     "iopub.status.busy": "2024-09-17T02:56:48.532973Z",
     "iopub.status.idle": "2024-09-17T02:56:48.697231Z",
     "shell.execute_reply": "2024-09-17T02:56:48.695930Z"
    },
    "papermill": {
     "duration": 0.184804,
     "end_time": "2024-09-17T02:56:48.700242",
     "exception": false,
     "start_time": "2024-09-17T02:56:48.515438",
     "status": "completed"
    },
    "tags": []
   },
   "outputs": [],
   "source": [
    "# Splitting data into training and testing\n",
    "X_train, X_test, y_train, y_test = train_test_split(X, y, test_size=0.2, random_state=42)"
   ]
  },
  {
   "cell_type": "code",
   "execution_count": 25,
   "id": "9b3c6ec5",
   "metadata": {
    "execution": {
     "iopub.execute_input": "2024-09-17T02:56:48.734921Z",
     "iopub.status.busy": "2024-09-17T02:56:48.734304Z",
     "iopub.status.idle": "2024-09-17T02:56:48.741578Z",
     "shell.execute_reply": "2024-09-17T02:56:48.740301Z"
    },
    "papermill": {
     "duration": 0.027639,
     "end_time": "2024-09-17T02:56:48.744191",
     "exception": false,
     "start_time": "2024-09-17T02:56:48.716552",
     "status": "completed"
    },
    "tags": []
   },
   "outputs": [],
   "source": [
    "# Training on Multiple Classifiers\n",
    "classifiers = [LogisticRegression(), MultinomialNB(), RandomForestClassifier(), KNeighborsClassifier()]\n",
    "clf_dict = { 0: \"Logistic Regression\", \n",
    "             1: \"NaiveBayes\", \n",
    "             2: \"RandomForest\", \n",
    "             3: \"KNeighbours\",}"
   ]
  },
  {
   "cell_type": "code",
   "execution_count": 26,
   "id": "d57189a1",
   "metadata": {
    "execution": {
     "iopub.execute_input": "2024-09-17T02:56:48.780109Z",
     "iopub.status.busy": "2024-09-17T02:56:48.779632Z",
     "iopub.status.idle": "2024-09-17T03:00:01.633992Z",
     "shell.execute_reply": "2024-09-17T03:00:01.632339Z"
    },
    "papermill": {
     "duration": 192.875785,
     "end_time": "2024-09-17T03:00:01.637061",
     "exception": false,
     "start_time": "2024-09-17T02:56:48.761276",
     "status": "completed"
    },
    "tags": []
   },
   "outputs": [
    {
     "name": "stdout",
     "output_type": "stream",
     "text": [
      "Logistic Regression: 95.98%\n",
      "NaiveBayes: 97.26%\n",
      "RandomForest: 97.85%\n",
      "KNeighbours: 92.16%\n"
     ]
    }
   ],
   "source": [
    "# Perform Cross Validation\n",
    "evaluation_results = []\n",
    "\n",
    "for i, model in enumerate(classifiers):\n",
    "    # Perform 10-fold cross-validation\n",
    "    cv_score = cross_val_score(model, X_train, y_train, scoring=\"accuracy\", cv=10)\n",
    "    \n",
    "    # Fit the model to the training data\n",
    "    model.fit(X_train, y_train)\n",
    "    \n",
    "    # Predict on the test set\n",
    "    y_pred = model.predict(X_test)\n",
    "    \n",
    "    # Calculate evaluation metrics\n",
    "    accuracy = accuracy_score(y_test, y_pred)\n",
    "    precision = precision_score(y_test, y_pred, average='weighted')\n",
    "    recall = recall_score(y_test, y_pred, average='weighted')\n",
    "    f1 = f1_score(y_test, y_pred, average='weighted')\n",
    "    \n",
    "    # Append results to the list\n",
    "    evaluation_results.append({\n",
    "        'Model': clf_dict[i],\n",
    "        'Cross-Validation Accuracy': cv_score.mean(),\n",
    "        'Test Accuracy': accuracy,\n",
    "        'Precision': precision,\n",
    "        'Recall': recall,\n",
    "        'F1 Score': f1\n",
    "    })\n",
    "    \n",
    "    print(f\"{clf_dict[i]}: {round(accuracy*100, 2)}%\")"
   ]
  },
  {
   "cell_type": "markdown",
   "id": "6d51ae46",
   "metadata": {
    "papermill": {
     "duration": 0.016651,
     "end_time": "2024-09-17T03:00:01.670754",
     "exception": false,
     "start_time": "2024-09-17T03:00:01.654103",
     "status": "completed"
    },
    "tags": []
   },
   "source": [
    "# <p style=\"background-color:purple;font-family:newtimeroman; color:white; text-align:center; font-size:30px; padding:8px; border-radius:20px;\">MODEL EVALUATION</p>"
   ]
  },
  {
   "cell_type": "code",
   "execution_count": 27,
   "id": "d33818a7",
   "metadata": {
    "execution": {
     "iopub.execute_input": "2024-09-17T03:00:01.705838Z",
     "iopub.status.busy": "2024-09-17T03:00:01.705338Z",
     "iopub.status.idle": "2024-09-17T03:00:01.858401Z",
     "shell.execute_reply": "2024-09-17T03:00:01.857163Z"
    },
    "papermill": {
     "duration": 0.173986,
     "end_time": "2024-09-17T03:00:01.861190",
     "exception": false,
     "start_time": "2024-09-17T03:00:01.687204",
     "status": "completed"
    },
    "tags": []
   },
   "outputs": [
    {
     "data": {
      "text/html": [
       "<style type=\"text/css\">\n",
       "#T_26a46_row0_col1 {\n",
       "  background-color: #2f974e;\n",
       "  color: #f1f1f1;\n",
       "}\n",
       "#T_26a46_row0_col2, #T_26a46_row0_col4 {\n",
       "  background-color: #359e53;\n",
       "  color: #f1f1f1;\n",
       "}\n",
       "#T_26a46_row0_col3 {\n",
       "  background-color: #3ca559;\n",
       "  color: #f1f1f1;\n",
       "}\n",
       "#T_26a46_row0_col5 {\n",
       "  background-color: #2b934b;\n",
       "  color: #f1f1f1;\n",
       "}\n",
       "#T_26a46_row1_col1 {\n",
       "  background-color: #0c7735;\n",
       "  color: #f1f1f1;\n",
       "}\n",
       "#T_26a46_row1_col2, #T_26a46_row1_col3, #T_26a46_row1_col4 {\n",
       "  background-color: #006529;\n",
       "  color: #f1f1f1;\n",
       "}\n",
       "#T_26a46_row1_col5 {\n",
       "  background-color: #006027;\n",
       "  color: #f1f1f1;\n",
       "}\n",
       "#T_26a46_row2_col1, #T_26a46_row2_col2, #T_26a46_row2_col3, #T_26a46_row2_col4, #T_26a46_row2_col5 {\n",
       "  background-color: #00441b;\n",
       "  color: #f1f1f1;\n",
       "}\n",
       "#T_26a46_row3_col1, #T_26a46_row3_col2, #T_26a46_row3_col3, #T_26a46_row3_col4, #T_26a46_row3_col5 {\n",
       "  background-color: #f7fcf5;\n",
       "  color: #000000;\n",
       "}\n",
       "</style>\n",
       "<table id=\"T_26a46\">\n",
       "  <thead>\n",
       "    <tr>\n",
       "      <th class=\"blank level0\" >&nbsp;</th>\n",
       "      <th id=\"T_26a46_level0_col0\" class=\"col_heading level0 col0\" >Model</th>\n",
       "      <th id=\"T_26a46_level0_col1\" class=\"col_heading level0 col1\" >Cross-Validation Accuracy</th>\n",
       "      <th id=\"T_26a46_level0_col2\" class=\"col_heading level0 col2\" >Test Accuracy</th>\n",
       "      <th id=\"T_26a46_level0_col3\" class=\"col_heading level0 col3\" >Precision</th>\n",
       "      <th id=\"T_26a46_level0_col4\" class=\"col_heading level0 col4\" >Recall</th>\n",
       "      <th id=\"T_26a46_level0_col5\" class=\"col_heading level0 col5\" >F1 Score</th>\n",
       "    </tr>\n",
       "  </thead>\n",
       "  <tbody>\n",
       "    <tr>\n",
       "      <th id=\"T_26a46_level0_row0\" class=\"row_heading level0 row0\" >0</th>\n",
       "      <td id=\"T_26a46_row0_col0\" class=\"data row0 col0\" >Logistic Regression</td>\n",
       "      <td id=\"T_26a46_row0_col1\" class=\"data row0 col1\" >95.247255</td>\n",
       "      <td id=\"T_26a46_row0_col2\" class=\"data row0 col2\" >95.984329</td>\n",
       "      <td id=\"T_26a46_row0_col3\" class=\"data row0 col3\" >96.002512</td>\n",
       "      <td id=\"T_26a46_row0_col4\" class=\"data row0 col4\" >95.984329</td>\n",
       "      <td id=\"T_26a46_row0_col5\" class=\"data row0 col5\" >95.679783</td>\n",
       "    </tr>\n",
       "    <tr>\n",
       "      <th id=\"T_26a46_level0_row1\" class=\"row_heading level0 row1\" >1</th>\n",
       "      <td id=\"T_26a46_row1_col0\" class=\"data row1 col0\" >NaiveBayes</td>\n",
       "      <td id=\"T_26a46_row1_col1\" class=\"data row1 col1\" >96.104859</td>\n",
       "      <td id=\"T_26a46_row1_col2\" class=\"data row1 col2\" >97.257591</td>\n",
       "      <td id=\"T_26a46_row1_col3\" class=\"data row1 col3\" >97.304671</td>\n",
       "      <td id=\"T_26a46_row1_col4\" class=\"data row1 col4\" >97.257591</td>\n",
       "      <td id=\"T_26a46_row1_col5\" class=\"data row1 col5\" >97.110499</td>\n",
       "    </tr>\n",
       "    <tr>\n",
       "      <th id=\"T_26a46_level0_row2\" class=\"row_heading level0 row2\" >2</th>\n",
       "      <td id=\"T_26a46_row2_col0\" class=\"data row2 col0\" >RandomForest</td>\n",
       "      <td id=\"T_26a46_row2_col1\" class=\"data row2 col1\" >97.206961</td>\n",
       "      <td id=\"T_26a46_row2_col2\" class=\"data row2 col2\" >97.845250</td>\n",
       "      <td id=\"T_26a46_row2_col3\" class=\"data row2 col3\" >97.849049</td>\n",
       "      <td id=\"T_26a46_row2_col4\" class=\"data row2 col4\" >97.845250</td>\n",
       "      <td id=\"T_26a46_row2_col5\" class=\"data row2 col5\" >97.768550</td>\n",
       "    </tr>\n",
       "    <tr>\n",
       "      <th id=\"T_26a46_level0_row3\" class=\"row_heading level0 row3\" >3</th>\n",
       "      <td id=\"T_26a46_row3_col0\" class=\"data row3 col0\" >KNeighbours</td>\n",
       "      <td id=\"T_26a46_row3_col1\" class=\"data row3 col1\" >90.690949</td>\n",
       "      <td id=\"T_26a46_row3_col2\" class=\"data row3 col2\" >92.164545</td>\n",
       "      <td id=\"T_26a46_row3_col3\" class=\"data row3 col3\" >92.599122</td>\n",
       "      <td id=\"T_26a46_row3_col4\" class=\"data row3 col4\" >92.164545</td>\n",
       "      <td id=\"T_26a46_row3_col5\" class=\"data row3 col5\" >90.440775</td>\n",
       "    </tr>\n",
       "  </tbody>\n",
       "</table>\n"
      ],
      "text/plain": [
       "<pandas.io.formats.style.Styler at 0x79a9efcef3d0>"
      ]
     },
     "execution_count": 27,
     "metadata": {},
     "output_type": "execute_result"
    }
   ],
   "source": [
    "# Creating DataFrame from the results\n",
    "evaluation_df = pd.DataFrame(evaluation_results)\n",
    "metric_category = ['Cross-Validation Accuracy', 'Test Accuracy', 'Precision','Recall', 'F1 Score']\n",
    "evaluation_df[metric_category] = round(evaluation_df[metric_category]*100, 6)\n",
    "\n",
    "# Displaying Model Evalutions \n",
    "evaluation_df.style.background_gradient(cmap='Greens')"
   ]
  },
  {
   "cell_type": "code",
   "execution_count": 28,
   "id": "a648f377",
   "metadata": {
    "execution": {
     "iopub.execute_input": "2024-09-17T03:00:01.897644Z",
     "iopub.status.busy": "2024-09-17T03:00:01.896988Z",
     "iopub.status.idle": "2024-09-17T03:00:02.449185Z",
     "shell.execute_reply": "2024-09-17T03:00:02.447928Z"
    },
    "papermill": {
     "duration": 0.574147,
     "end_time": "2024-09-17T03:00:02.452216",
     "exception": false,
     "start_time": "2024-09-17T03:00:01.878069",
     "status": "completed"
    },
    "tags": []
   },
   "outputs": [
    {
     "data": {
      "image/png": "[encoded data removed]",
      "text/plain": [
       "<Figure size 1500x500 with 1 Axes>"
      ]
     },
     "metadata": {},
     "output_type": "display_data"
    }
   ],
   "source": [
    "# Plotting Performance of Different Models\n",
    "plt.figure(figsize=(15, 5))\n",
    "\n",
    "for i, metric in enumerate(evaluation_df.columns[1:]):\n",
    "    plt.plot(evaluation_df['Model'], evaluation_df[metric], marker='o', linestyle='-', linewidth=2,  markersize=8, label=metric)\n",
    "\n",
    "plt.title('Performance of Different Models', fontsize=18, fontweight='bold')\n",
    "plt.xlabel('Model', fontsize=14)\n",
    "plt.ylabel('Score', fontsize=14)\n",
    "plt.xticks(fontsize=12)\n",
    "plt.yticks(fontsize=12)\n",
    "\n",
    "plt.grid(True, linestyle='--', alpha=1)\n",
    "plt.legend(title='Metric', title_fontsize='15', fontsize='14', loc='best', frameon=True, shadow=True)\n",
    "plt.tight_layout()  \n",
    "plt.show()\n"
   ]
  },
  {
   "cell_type": "markdown",
   "id": "bd1bb425",
   "metadata": {
    "papermill": {
     "duration": 0.019011,
     "end_time": "2024-09-17T03:00:02.491077",
     "exception": false,
     "start_time": "2024-09-17T03:00:02.472066",
     "status": "completed"
    },
    "tags": []
   },
   "source": [
    "# <p style=\"background-color:purple;font-family:newtimeroman; color:white; text-align:center; font-size:30px; padding:8px; border-radius:20px;\">THANK YOU! 😊</p>"
   ]
  }
 ],
 "metadata": {
  "kaggle": {
   "accelerator": "none",
   "dataSources": [
    {
     "datasetId": 483,
     "sourceId": 982,
     "sourceType": "datasetVersion"
    }
   ],
   "dockerImageVersionId": 30761,
   "isGpuEnabled": false,
   "isInternetEnabled": true,
   "language": "python",
   "sourceType": "notebook"
  },
  "kernelspec": {
   "display_name": "Python 3",
   "language": "python",
   "name": "python3"
  },
  "language_info": {
   "codemirror_mode": {
    "name": "ipython",
    "version": 3
   },
   "file_extension": ".py",
   "mimetype": "text/x-python",
   "name": "python",
   "nbconvert_exporter": "python",
   "pygments_lexer": "ipython3",
   "version": "3.10.14"
  },
  "papermill": {
   "default_parameters": {},
   "duration": 213.590812,
   "end_time": "2024-09-17T03:00:03.635884",
   "environment_variables": {},
   "exception": null,
   "input_path": "__notebook__.ipynb",
   "output_path": "__notebook__.ipynb",
   "parameters": {},
   "start_time": "2024-09-17T02:56:30.045072",
   "version": "2.6.0"
  }
 },
 "nbformat": 4,
 "nbformat_minor": 5
}
